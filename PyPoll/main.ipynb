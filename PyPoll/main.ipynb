{
 "cells": [
  {
   "cell_type": "code",
   "execution_count": 23,
   "metadata": {},
   "outputs": [
    {
     "name": "stdout",
     "output_type": "stream",
     "text": [
      "Election Results\n",
      "--------------------\n",
      "Total Votes: 3521001\n",
      "Khan: 63.0% 2218231\n",
      "Correy: 20.0% 704200\n",
      "Li: 14.000000000000002% 492940\n",
      "O'Tooley: 3.0% 105630\n",
      "--------------------\n",
      "Winner:Khan\n"
     ]
    }
   ],
   "source": [
    "import os\n",
    "import csv\n",
    "file = os.path.join('election_data.csv')\n",
    "total_votes = 0\n",
    "candidates = []\n",
    "Khan = 0\n",
    "Correy = 0\n",
    "Li = 0\n",
    "OTooley = 0\n",
    "with open('election_data.csv','r') as csvfile:\n",
    "    csvreader = csv.reader(csvfile, delimiter = ',')\n",
    "    # Skipping the first row as it's the row for column headers\n",
    "    header = next(csvreader)\n",
    "    # Creating lists to track values for the output\n",
    "# Using a for loop to now append values to our list\n",
    "    for row in csvreader:\n",
    "        total_votes = total_votes + 1\n",
    "        if \"Khan\" in row [2]:\n",
    "            Khan = Khan + 1\n",
    "        if \"Correy\" in row[2]:\n",
    "            Correy = Correy + 1\n",
    "        if \"Li\" in row [2]:\n",
    "            Li = Li + 1\n",
    "        if \"O'Tooley\" in row [2]:\n",
    "            OTooley = OTooley + 1\n",
    "        if row[2] not in candidates:\n",
    "            candidates.append(row[2])\n",
    "Khan_Percentage = round(Khan/total_votes,2) * 100\n",
    "Correy_Percentage = round(Correy/total_votes,2) * 100\n",
    "Li_Percentage = round(Li/total_votes,2) * 100\n",
    "OTooley_Percentage = round(OTooley/total_votes,2) * 100\n",
    "\n",
    "print(\"Election Results\")\n",
    "print(\"--------------------\")\n",
    "print(f\"Total Votes: {total_votes}\")\n",
    "print(f\"Khan: {Khan_Percentage}% {(Khan)}\")\n",
    "print(f\"Correy: {Correy_Percentage}% {(Correy)}\")\n",
    "print(f\"Li: {Li_Percentage}% {(Li)}\")\n",
    "print(f\"O'Tooley: {OTooley_Percentage}% {(OTooley)}\")\n",
    "print(\"--------------------\")\n",
    "print(\"Winner:Khan\")\n",
    "\n",
    "outputfile = os.path.join(\"output.txt\")\n",
    "with open('output.txt','w') as csvfile:\n",
    "    csvwriter = csv.writer(csvfile, delimiter =',')\n",
    "    csvwriter.writerow(\"Election Results\")\n",
    "    csvwriter.writerow(\"--------------------\")\n",
    "    csvwriter.writerow(f\"Total Votes: {total_votes}\")\n",
    "    csvwriter.writerow(f\"Khan: {Khan_Percentage}% {(Khan)}\")\n",
    "    csvwriter.writerow(f\"Correy: {Correy_Percentage}% {(Correy)}\")\n",
    "    csvwriter.writerow(f\"Li: {Li_Percentage}% {(Li)}\")\n",
    "    csvwriter.writerow(f\"O'Tooley: {OTooley_Percentage}% {(OTooley)}\")\n",
    "    csvwriter.writerow(\"--------------------\")\n",
    "    csvwriter.writerow(\"Winner:Khan\")"
   ]
  },
  {
   "cell_type": "code",
   "execution_count": null,
   "metadata": {},
   "outputs": [],
   "source": []
  }
 ],
 "metadata": {
  "kernelspec": {
   "display_name": "Python 3",
   "language": "python",
   "name": "python3"
  },
  "language_info": {
   "codemirror_mode": {
    "name": "ipython",
    "version": 3
   },
   "file_extension": ".py",
   "mimetype": "text/x-python",
   "name": "python",
   "nbconvert_exporter": "python",
   "pygments_lexer": "ipython3",
   "version": "3.8.5"
  }
 },
 "nbformat": 4,
 "nbformat_minor": 4
}
