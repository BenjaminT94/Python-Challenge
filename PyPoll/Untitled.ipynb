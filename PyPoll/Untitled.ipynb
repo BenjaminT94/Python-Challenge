{
 "cells": [
  {
   "cell_type": "code",
   "execution_count": 9,
   "metadata": {},
   "outputs": [
    {
     "ename": "ValueError",
     "evalue": "2218231 is not in list",
     "output_type": "error",
     "traceback": [
      "\u001b[1;31m---------------------------------------------------------------------------\u001b[0m",
      "\u001b[1;31mValueError\u001b[0m                                Traceback (most recent call last)",
      "\u001b[1;32m<ipython-input-9-8ab31a8da206>\u001b[0m in \u001b[0;36m<module>\u001b[1;34m\u001b[0m\n\u001b[0;32m     28\u001b[0m \u001b[0mLi_Percentage\u001b[0m \u001b[1;33m=\u001b[0m \u001b[1;33m(\u001b[0m\u001b[0mLi\u001b[0m\u001b[1;33m/\u001b[0m\u001b[0mtotal_votes\u001b[0m\u001b[1;33m)\u001b[0m\u001b[1;33m\u001b[0m\u001b[1;33m\u001b[0m\u001b[0m\n\u001b[0;32m     29\u001b[0m \u001b[0mOTooley_Percentage\u001b[0m \u001b[1;33m=\u001b[0m \u001b[1;33m(\u001b[0m\u001b[0mOTooley\u001b[0m\u001b[1;33m/\u001b[0m\u001b[0mtotal_votes\u001b[0m\u001b[1;33m)\u001b[0m\u001b[1;33m\u001b[0m\u001b[1;33m\u001b[0m\u001b[0m\n\u001b[1;32m---> 30\u001b[1;33m \u001b[0mwinner\u001b[0m \u001b[1;33m=\u001b[0m \u001b[0mcandidates\u001b[0m\u001b[1;33m.\u001b[0m\u001b[0mindex\u001b[0m\u001b[1;33m(\u001b[0m\u001b[0mmax\u001b[0m\u001b[1;33m(\u001b[0m\u001b[0mKhan\u001b[0m\u001b[1;33m,\u001b[0m\u001b[0mCorrey\u001b[0m\u001b[1;33m,\u001b[0m\u001b[0mLi\u001b[0m\u001b[1;33m,\u001b[0m\u001b[0mOTooley\u001b[0m\u001b[1;33m)\u001b[0m\u001b[1;33m)\u001b[0m\u001b[1;33m\u001b[0m\u001b[1;33m\u001b[0m\u001b[0m\n\u001b[0m",
      "\u001b[1;31mValueError\u001b[0m: 2218231 is not in list"
     ]
    }
   ],
   "source": [
    "import os\n",
    "import csv\n",
    "file = os.path.join('election_data.csv')\n",
    "total_votes = 0\n",
    "candidates = []\n",
    "Khan = 0\n",
    "Correy = 0\n",
    "Li = 0\n",
    "OTooley = 0\n",
    "with open('election_data.csv','r') as csvfile:\n",
    "    csvreader = csv.reader(csvfile, delimiter = ',')\n",
    "    # Skipping the first row as it's the row for column headers\n",
    "    header = next(csvreader)\n",
    "    # Creating lists to track values for the output\n",
    "# Using a for loop to now append values to our list\n",
    "    for row in csvreader:\n",
    "        total_votes = total_votes + 1\n",
    "        if \"Khan\" in row [2]:\n",
    "            Khan = Khan + 1\n",
    "        if \"Correy\" in row[2]:\n",
    "            Correy = Correy + 1\n",
    "        if \"Li\" in row [2]:\n",
    "            Li = Li + 1\n",
    "        if row[2] not in candidates:\n",
    "            candidates.append(row[2])\n",
    "Khan_Percentage = (Khan/total_votes) * 100\n",
    "Correy_Percentage = (Correy/total_votes) * 100\n",
    "Li_Percentage = (Li/total_votes) * 100\n",
    "OTooley_Percentage = (OTooley/total_votes) * 100\n",
    "winner = candidates.index(max(Khan,Correy,Li,OTooley))"
   ]
  },
  {
   "cell_type": "code",
   "execution_count": null,
   "metadata": {},
   "outputs": [],
   "source": [
    "winner"
   ]
  },
  {
   "cell_type": "code",
   "execution_count": null,
   "metadata": {},
   "outputs": [],
   "source": []
  }
 ],
 "metadata": {
  "kernelspec": {
   "display_name": "Python 3",
   "language": "python",
   "name": "python3"
  },
  "language_info": {
   "codemirror_mode": {
    "name": "ipython",
    "version": 3
   },
   "file_extension": ".py",
   "mimetype": "text/x-python",
   "name": "python",
   "nbconvert_exporter": "python",
   "pygments_lexer": "ipython3",
   "version": "3.8.5"
  }
 },
 "nbformat": 4,
 "nbformat_minor": 4
}
