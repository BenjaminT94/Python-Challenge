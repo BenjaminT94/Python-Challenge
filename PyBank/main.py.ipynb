{
 "cells": [
  {
   "cell_type": "code",
   "execution_count": 5,
   "metadata": {},
   "outputs": [
    {
     "name": "stdout",
     "output_type": "stream",
     "text": [
      "Financial Analysis\n",
      "--------------------\n",
      "Total Months: 86\n",
      "Total: 38382578\n",
      "Average Change: -2315\n",
      "Greatest Increase: Feb-2012 1926159\n",
      "Greatest Decrease: Sep-2013 -2196167\n"
     ]
    }
   ],
   "source": [
    "import os\n",
    "import csv\n",
    "file = os.path.join('budget_data.csv')\n",
    "# Using Exercise CSV Read, opening the source data file\n",
    "profit_change = []\n",
    "months = []\n",
    "profit_loss = []\n",
    "with open('budget_data.csv','r') as csvfile:\n",
    "    csvreader = csv.reader(csvfile, delimiter = ',')\n",
    "    # Skipping the first row as it's the row for column headers\n",
    "    header = next(csvreader)\n",
    "    # Creating lists to track values for the output\n",
    "# Using a for loop to now append values to our list\n",
    "    for row in csvreader:\n",
    "        months.append(row[0])\n",
    "        profit_loss.append(int(row[1]))\n",
    "    for x in range(len(profit_loss)-1):\n",
    "#         Appending all changes of profit between months to our empty list\n",
    "        profit_change.append(profit_loss[x+1]-profit_loss[x])\n",
    "        total_change = sum((profit_change))\n",
    "        total_months = len((profit_change))\n",
    "        # Assigning a variable to calculate the average change of profit in the entire file  \n",
    "        average_change = int(total_change) / int(total_months)\n",
    "        # Tracking the index of the greatest change in profit plus 1 (House of Pie exercise)\n",
    "        greatest_increase = profit_change.index(max(profit_change)) + 1\n",
    "        greatest_decrease = profit_change.index(min(profit_change)) + 1\n",
    "\n",
    "print(\"Financial Analysis\")\n",
    "print(\"--------------------\")\n",
    "print(f\"Total Months: {len(months)}\")\n",
    "print(f\"Total: {sum(profit_loss)}\")\n",
    "print(f\"Average Change: {int(average_change)}\")\n",
    "print(f\"Greatest Increase: {months[greatest_increase]} {(str(max(profit_change)))}\")\n",
    "print(f\"Greatest Decrease: {months[greatest_decrease]} {(str(min(profit_change)))}\")\n",
    "\n",
    "outputfile = os.path.join(\"output.txt\")\n",
    "with open('output.txt','w') as csvfile:\n",
    "    csvwriter = csv.writer(csvfile, delimiter =',')\n",
    "    csvwriter.writerow(\"Financial Analysis\")\n",
    "    csvwriter.writerow(\"-------------------\")\n",
    "    csvwriter.writerow(f\"Total Months: {len(months)}\")\n",
    "    csvwriter.writerow(f\"Total: {sum(profit_loss)}\")\n",
    "    csvwriter.writerow(f\"Average Change: {int(average_change)}\")\n",
    "    csvwriter.writerow(f\"Greatest Increase: {months[greatest_increase]} {(str(max(profit_change)))}\")\n",
    "    csvwriter.writerow(f\"Greatest Decrease: {months[greatest_decrease]} {(str(min(profit_change)))}\")\n",
    "    "
   ]
  },
  {
   "cell_type": "code",
   "execution_count": null,
   "metadata": {},
   "outputs": [],
   "source": []
  }
 ],
 "metadata": {
  "kernelspec": {
   "display_name": "Python 3",
   "language": "python",
   "name": "python3"
  },
  "language_info": {
   "codemirror_mode": {
    "name": "ipython",
    "version": 3
   },
   "file_extension": ".py",
   "mimetype": "text/x-python",
   "name": "python",
   "nbconvert_exporter": "python",
   "pygments_lexer": "ipython3",
   "version": "3.8.5"
  }
 },
 "nbformat": 4,
 "nbformat_minor": 4
}
